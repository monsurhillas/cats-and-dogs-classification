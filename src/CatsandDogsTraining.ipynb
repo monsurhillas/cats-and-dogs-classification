{
 "cells": [
  {
   "cell_type": "code",
   "execution_count": 1,
   "metadata": {},
   "outputs": [],
   "source": [
    "################# Imports #############\n",
    "import os\n",
    "import cv2\n",
    "import numpy as np\n",
    "from tqdm import tqdm\n",
    "import torch\n",
    "import torch.nn as nn\n",
    "import torch.nn.functional as F\n",
    "\n",
    "\n",
    "REBUILD_DATA = False # set to true to one once, then back to false unless you want to change something in your training data.\n",
    "\n",
    "#Data preprocessing\n",
    "class DogsVSCats():\n",
    "    IMG_SIZE = 50\n",
    "    CATS = \"/home/monsur/PetImages/Cat\"#Paths \n",
    "    DOGS = \"/home/monsur/PetImages/Dog\"\n",
    "    #TESTING = \"PetImages/Testing\"\n",
    "    LABELS = {CATS: 0, DOGS: 1}#defining cats as 0 and Dogs as 1\n",
    "    training_data = [] #creating a list to contain the training data.\n",
    "\n",
    "    catcount = 0 # total data counting for data regularization.\n",
    "    dogcount = 0\n",
    "\n",
    "    def make_training_data(self):\n",
    "        for label in self.LABELS:\n",
    "            print(label)\n",
    "            for f in tqdm(os.listdir(label)):\n",
    "                if \"jpg\" in f:\n",
    "                    try:\n",
    "                        path = os.path.join(label, f)\n",
    "                        img = cv2.imread(path, cv2.IMREAD_GRAYSCALE)\n",
    "                        img = cv2.resize(img, (self.IMG_SIZE, self.IMG_SIZE))\n",
    "                        self.training_data.append([np.array(img), np.eye(2)[self.LABELS[label]]])  # do something like print(np.eye(2)[1]), just makes one_hot \n",
    "                        #print(np.eye(2)[self.LABELS[label]])\n",
    "\n",
    "                        if label == self.CATS:\n",
    "                            self.catcount += 1\n",
    "                        elif label == self.DOGS:\n",
    "                            self.dogcount += 1\n",
    "\n",
    "                    except Exception as e:\n",
    "                        pass\n",
    "                        #print(label, f, str(e))\n",
    "\n",
    "        np.random.shuffle(self.training_data)\n",
    "        np.save(\"training_data.npy\", self.training_data) #saving training data as npy file.\n",
    "        print('Cats:',dogsvcats.catcount)\n",
    "        print('Dogs:',dogsvcats.dogcount)\n",
    "\n",
    "if REBUILD_DATA:\n",
    "    dogsvcats = DogsVSCats()\n",
    "    dogsvcats.make_training_data()\n",
    "                    "
   ]
  },
  {
   "cell_type": "code",
   "execution_count": 2,
   "metadata": {},
   "outputs": [],
   "source": [
    "training_data = np.load(\"training_data.npy\", allow_pickle = True) #loading the preprocessed data, by this we only once have to preprocess data"
   ]
  },
  {
   "cell_type": "code",
   "execution_count": 3,
   "metadata": {},
   "outputs": [
    {
     "name": "stdout",
     "output_type": "stream",
     "text": [
      "Net(\n",
      "  (conv1): Conv2d(1, 32, kernel_size=(5, 5), stride=(1, 1))\n",
      "  (conv2): Conv2d(32, 64, kernel_size=(5, 5), stride=(1, 1))\n",
      "  (conv3): Conv2d(64, 128, kernel_size=(5, 5), stride=(1, 1))\n",
      "  (fc1): Linear(in_features=512, out_features=256, bias=True)\n",
      "  (fc2): Linear(in_features=256, out_features=256, bias=True)\n",
      "  (fc3): Linear(in_features=256, out_features=2, bias=True)\n",
      ")\n",
      "conv1.weight 800\n",
      "conv1.bias 32\n",
      "conv2.weight 51200\n",
      "conv2.bias 64\n",
      "conv3.weight 204800\n",
      "conv3.bias 128\n",
      "fc1.weight 131072\n",
      "fc1.bias 256\n",
      "fc2.weight 65536\n",
      "fc2.bias 256\n",
      "fc3.weight 512\n",
      "fc3.bias 2\n",
      "Total Parameters:  454658\n"
     ]
    }
   ],
   "source": [
    "\n",
    "##############Model Declaration #######################\n",
    "\n",
    "class Net(nn.Module):\n",
    "    def __init__(self):\n",
    "        super().__init__()\n",
    "        self.conv1 = nn.Conv2d(1,32,5) #1st layer\n",
    "        self.conv2 = nn.Conv2d(32,64,5)#2nd layer\n",
    "        self.conv3 = nn.Conv2d(64,128,5)#3rd layer\n",
    "        \n",
    "        self.fc1 = nn.Linear(2*2*128,256) #Fully connected layer1\n",
    "        self.fc2 = nn.Linear(256,256)\n",
    "        self.fc3 = nn.Linear(256,2)#Fully connected layer2\n",
    "    \n",
    "    def forward(self,x):\n",
    "        x = F.max_pool2d(F.relu(self.conv1(x)),(2,2))#Maxpooling for first layer\n",
    "        x = F.max_pool2d(F.relu(self.conv2(x)),(2,2))#Maxpooling for second layer\n",
    "        x = F.max_pool2d(F.relu(self.conv3(x)),(2,2))#Maxpooling for third layer\n",
    "        x= x.view(-1,2*2*128)\n",
    "        x= F.relu(self.fc1(x))\n",
    "        x= F.relu(self.fc2(x))\n",
    "        x= self.fc3(x)\n",
    "        \n",
    "        #if self._to_linear is None:\n",
    "        #    self._to_linear = x[0].shape[0]\n",
    "        \n",
    "        return F.log_softmax(x,dim=1)#Softmaxing the model to get one hot vector.\n",
    "        \n",
    "        \n",
    "net = Net()\n",
    "net=net.cuda()\n",
    "print(net)\n",
    "\n",
    "#Parameter count function\n",
    "def count_parameters(net):\n",
    "    for name, param in net.named_parameters():\n",
    "        if param.requires_grad:\n",
    "            print(name, param.numel())\n",
    "    return sum(p.numel() for p in net.parameters() if p.requires_grad)\n",
    "\n",
    "\n",
    "print(\"Total Parameters: \",count_parameters(net))\n",
    "\n",
    "        "
   ]
  },
  {
   "cell_type": "code",
   "execution_count": 4,
   "metadata": {},
   "outputs": [
    {
     "name": "stdout",
     "output_type": "stream",
     "text": [
      "2494\n"
     ]
    }
   ],
   "source": [
    "import torch.optim as optim #optimizer starts after model initialization for loss counting\n",
    "\n",
    "optimizer = optim.Adam(net.parameters(), lr =0.001) #lr is learning rate typically lr = 1e^-3\n",
    "loss_function = nn.MSELoss() #Using Mean squared error loss \n",
    "\n",
    "X= torch.Tensor([i[0] for i in training_data]).view(-1,50,50)\n",
    "X=X/255.0\n",
    "Y = torch.Tensor([i[1] for i in training_data])\n",
    "\n",
    "VAL_PCT = 0.1\n",
    "VAL_SIZE = int(len(X)*VAL_PCT)\n",
    "print(VAL_SIZE)"
   ]
  },
  {
   "cell_type": "code",
   "execution_count": 5,
   "metadata": {},
   "outputs": [
    {
     "name": "stdout",
     "output_type": "stream",
     "text": [
      "22452\n",
      "2494\n"
     ]
    }
   ],
   "source": [
    "train_X = X[:-VAL_SIZE]\n",
    "train_Y = Y[:-VAL_SIZE]\n",
    "\n",
    "test_X = X[-VAL_SIZE:]\n",
    "test_Y = Y[-VAL_SIZE:]\n",
    "\n",
    "train_X = train_X.cuda()\n",
    "train_Y = train_Y.cuda()\n",
    "test_X = test_X.cuda()\n",
    "test_Y = test_Y.cuda()\n",
    "\n",
    "print(len(train_X))\n",
    "print(len(test_X))"
   ]
  },
  {
   "cell_type": "code",
   "execution_count": 6,
   "metadata": {},
   "outputs": [
    {
     "name": "stderr",
     "output_type": "stream",
     "text": [
      "100%|██████████| 351/351 [00:03<00:00, 115.83it/s]\n",
      "  5%|▌         | 18/351 [00:00<00:01, 172.93it/s]"
     ]
    },
    {
     "name": "stdout",
     "output_type": "stream",
     "text": [
      "tensor(1.6758, device='cuda:0', grad_fn=<MseLossBackward>)\n"
     ]
    },
    {
     "name": "stderr",
     "output_type": "stream",
     "text": [
      "100%|██████████| 351/351 [00:02<00:00, 127.16it/s]\n",
      "  5%|▌         | 18/351 [00:00<00:01, 172.35it/s]"
     ]
    },
    {
     "name": "stdout",
     "output_type": "stream",
     "text": [
      "tensor(1.6663, device='cuda:0', grad_fn=<MseLossBackward>)\n"
     ]
    },
    {
     "name": "stderr",
     "output_type": "stream",
     "text": [
      "100%|██████████| 351/351 [00:02<00:00, 121.11it/s]\n",
      "  5%|▍         | 17/351 [00:00<00:02, 159.56it/s]"
     ]
    },
    {
     "name": "stdout",
     "output_type": "stream",
     "text": [
      "tensor(1.6438, device='cuda:0', grad_fn=<MseLossBackward>)\n"
     ]
    },
    {
     "name": "stderr",
     "output_type": "stream",
     "text": [
      "100%|██████████| 351/351 [00:02<00:00, 125.04it/s]\n",
      "  5%|▌         | 18/351 [00:00<00:01, 166.98it/s]"
     ]
    },
    {
     "name": "stdout",
     "output_type": "stream",
     "text": [
      "tensor(1.6437, device='cuda:0', grad_fn=<MseLossBackward>)\n"
     ]
    },
    {
     "name": "stderr",
     "output_type": "stream",
     "text": [
      "100%|██████████| 351/351 [00:02<00:00, 127.26it/s]\n"
     ]
    },
    {
     "name": "stdout",
     "output_type": "stream",
     "text": [
      "tensor(1.6441, device='cuda:0', grad_fn=<MseLossBackward>)\n"
     ]
    }
   ],
   "source": [
    "BATCH_SIZE = 64\n",
    "EPOCHS = 5\n",
    "\n",
    "for epochs in range(EPOCHS):\n",
    "    for i in tqdm(range(0,len(train_X),BATCH_SIZE)):\n",
    "        #print(i,i+BATCH_SIZE)\n",
    "        batch_X = train_X[i:i+BATCH_SIZE].view(-1,1,50,50)\n",
    "        batch_Y = train_Y[i:i+BATCH_SIZE]\n",
    "        \n",
    "        batch_X=batch_X.cuda()\n",
    "        batch_Y=batch_Y.cuda()\n",
    "        \n",
    "        optimizer.zero_grad()\n",
    "        outputs = net(batch_X)\n",
    "        loss = loss_function(outputs,batch_Y)\n",
    "        loss.backward()\n",
    "        optimizer.step()\n",
    "    print(loss)\n",
    "        \n",
    "\n",
    "        \n",
    "    "
   ]
  },
  {
   "cell_type": "code",
   "execution_count": 7,
   "metadata": {},
   "outputs": [
    {
     "name": "stderr",
     "output_type": "stream",
     "text": [
      "100%|██████████| 2494/2494 [00:01<00:00, 1432.61it/s]"
     ]
    },
    {
     "name": "stdout",
     "output_type": "stream",
     "text": [
      "Accuracy:  0.76\n"
     ]
    },
    {
     "name": "stderr",
     "output_type": "stream",
     "text": [
      "\n"
     ]
    }
   ],
   "source": [
    "correct = 0\n",
    "total = 0\n",
    "\n",
    "with torch.no_grad():\n",
    "    for i in tqdm(range(len(test_X))):\n",
    "        real_class = torch.argmax(test_Y[i])\n",
    "        net_out = net(test_X[i].view(-1,1,50,50))[0]\n",
    "        #net_out = net_out.cuda()\n",
    "        #real_class= real_class.cuda()\n",
    "        predicted_class = torch.argmax(net_out)\n",
    "        if predicted_class == real_class:\n",
    "            correct+=1\n",
    "        \n",
    "        total+=1\n",
    "        \n",
    "print(\"Accuracy: \", round(correct/total,3))"
   ]
  },
  {
   "cell_type": "code",
   "execution_count": null,
   "metadata": {},
   "outputs": [],
   "source": []
  }
 ],
 "metadata": {
  "kernelspec": {
   "display_name": "Python 3",
   "language": "python",
   "name": "python3"
  },
  "language_info": {
   "codemirror_mode": {
    "name": "ipython",
    "version": 3
   },
   "file_extension": ".py",
   "mimetype": "text/x-python",
   "name": "python",
   "nbconvert_exporter": "python",
   "pygments_lexer": "ipython3",
   "version": "3.8.5"
  }
 },
 "nbformat": 4,
 "nbformat_minor": 4
}
